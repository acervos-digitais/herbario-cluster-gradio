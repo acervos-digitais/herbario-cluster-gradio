{
 "cells": [
  {
   "cell_type": "code",
   "execution_count": null,
   "metadata": {},
   "outputs": [],
   "source": [
    "import json\n",
    "import numpy as np\n",
    "\n",
    "from sklearn.cluster import KMeans\n",
    "from sklearn.manifold import TSNE\n",
    "# from sklearn.decomposition import PCA\n",
    "from sklearn.preprocessing import StandardScaler\n",
    "from sklearn.metrics import euclidean_distances"
   ]
  },
  {
   "cell_type": "code",
   "execution_count": null,
   "metadata": {},
   "outputs": [],
   "source": [
    "def tsne_kmeans(emb_raw, n_clusters=8, n_components=3, perplexity=30):\n",
    "  mTSNE = TSNE(n_components=n_components, perplexity=perplexity, random_state=10)\n",
    "  mCluster = KMeans(n_clusters=n_clusters, random_state=1010)\n",
    "\n",
    "  emb_reduced = mTSNE.fit_transform(StandardScaler().fit_transform(emb_raw))\n",
    "  emb_clusters = mCluster.fit_predict(emb_reduced)\n",
    "\n",
    "  return emb_reduced, emb_clusters, mCluster.cluster_centers_"
   ]
  },
  {
   "cell_type": "code",
   "execution_count": null,
   "metadata": {},
   "outputs": [],
   "source": [
    "with open(\"./20250515_embeddings.json\", \"r\") as ifp:\n",
    "  data = json.load(ifp)\n",
    "\n",
    "ids = np.array(list(data.keys()))\n",
    "embeddings = np.array([v[\"clip\"] for v in data.values()])"
   ]
  },
  {
   "cell_type": "code",
   "execution_count": null,
   "metadata": {},
   "outputs": [],
   "source": [
    "embs, clusters, centers = tsne_kmeans(embeddings, n_clusters=8)\n",
    "cluster_distances = euclidean_distances(embs, centers)\n",
    "\n",
    "i_c_d = zip(ids.tolist(), clusters.tolist(), cluster_distances.tolist())\n",
    "\n",
    "cluster_data = {id: {\"cluster\": c, \"distances\": [round(d,6) for d in ds]} for  id,c,ds in i_c_d}\n",
    "\n",
    "json.dumps(cluster_data)"
   ]
  },
  {
   "cell_type": "code",
   "execution_count": null,
   "metadata": {},
   "outputs": [],
   "source": [
    "cluster_data = {}\n",
    "\n",
    "for n in [2,4,6,8,10,12,14,16]:\n",
    "  embs, clusters, centers = tsne_kmeans(embeddings, n_clusters=n)\n",
    "  cluster_distances = euclidean_distances(embs, centers)\n",
    "\n",
    "  i_c_d = zip(ids.tolist(), clusters.tolist(), cluster_distances.tolist())\n",
    "\n",
    "  cluster_data[n] = {id: {\"cluster\": c, \"distances\": [round(d,6) for d in ds]} for  id,c,ds in i_c_d}"
   ]
  },
  {
   "cell_type": "code",
   "execution_count": null,
   "metadata": {},
   "outputs": [],
   "source": [
    "with open(\"./20250515_clusters.json\", \"w\") as ofp:\n",
    "  json.dump(cluster_data, ofp, separators=(\",\",\":\"), sort_keys=True, ensure_ascii=False)"
   ]
  }
 ],
 "metadata": {
  "kernelspec": {
   "display_name": "9103",
   "language": "python",
   "name": "python3"
  },
  "language_info": {
   "codemirror_mode": {
    "name": "ipython",
    "version": 3
   },
   "file_extension": ".py",
   "mimetype": "text/x-python",
   "name": "python",
   "nbconvert_exporter": "python",
   "pygments_lexer": "ipython3",
   "version": "3.10.15"
  }
 },
 "nbformat": 4,
 "nbformat_minor": 2
}
